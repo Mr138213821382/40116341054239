{
  "nbformat": 4,
  "nbformat_minor": 0,
  "metadata": {
    "colab": {
      "name": "cqueue.ipynb",
      "provenance": [],
      "collapsed_sections": []
    },
    "kernelspec": {
      "name": "python3",
      "display_name": "Python 3"
    },
    "language_info": {
      "name": "python"
    }
  },
  "cells": [
    {
      "cell_type": "code",
      "execution_count": 6,
      "metadata": {
        "id": "5OQ8PkNCVpfc"
      },
      "outputs": [],
      "source": [
        "class CQueue:\n",
        "\n",
        "  def __init__(self, k):\n",
        "    self.k = k\n",
        "    self.queue = [None] * k\n",
        "    self.front = -1\n",
        "    self.rear = -1\n",
        "\n",
        "  def display(self):\n",
        "      if(self.front == -1):\n",
        "        print('empty')\n",
        "        return\n",
        "      elif(self.front <= self.rear) : \n",
        "         for i in range(self.front, self.rear+1):\n",
        "            print(self.queue[i], end=' ')\n",
        "         print()  \n",
        "      else:\n",
        "        for i in range(self.front, self.k):\n",
        "             print(self.queue[i], end=' ')\n",
        "        for i in range(0, self.rear+1):\n",
        "             print(self.queue[i], end=' ')   \n",
        "        print()\n",
        "\n",
        "  def enqueue(self, data):\n",
        "    if(((self.rear + 1) % self.k ) == self.front):\n",
        "      print('full')\n",
        "      return\n",
        "    elif (self.front == -1):\n",
        "      self.front = 0\n",
        "      self.rear = 0\n",
        "      self.queue[self.rear] = data\n",
        "    else:\n",
        "      self.rear = (self.rear + 1 ) % self.k\n",
        "      self.queue[self.rear] = data\n",
        "\n",
        "  def dequeue(self):\n",
        "      if (self.front == -1):\n",
        "        print('empty')\n",
        "        return\n",
        "      elif (self.front == self.rear):\n",
        "        t = self.queue[self.front]\n",
        "        self.front = -1\n",
        "        self.rear = -1\n",
        "        return t\n",
        "      else:\n",
        "        t = self.queue[self.front]\n",
        "        self.front = (self.front + 1 ) % self.k\n",
        "        return t"
      ]
    },
    {
      "cell_type": "code",
      "source": [
        "q = CQueue(3)"
      ],
      "metadata": {
        "id": "G2pgQRI6wUfc"
      },
      "execution_count": 7,
      "outputs": []
    },
    {
      "cell_type": "code",
      "source": [
        "q.display()"
      ],
      "metadata": {
        "colab": {
          "base_uri": "https://localhost:8080/"
        },
        "id": "r5dqewMJweht",
        "outputId": "839a82d7-429f-46df-e63a-afd7c48036f8"
      },
      "execution_count": 8,
      "outputs": [
        {
          "output_type": "stream",
          "name": "stdout",
          "text": [
            "empty\n"
          ]
        }
      ]
    },
    {
      "cell_type": "code",
      "source": [
        "q.enqueue('a')\n",
        "q.enqueue('b')\n",
        "q.enqueue('c')"
      ],
      "metadata": {
        "id": "-qrr1chmwkNu"
      },
      "execution_count": 9,
      "outputs": []
    },
    {
      "cell_type": "code",
      "source": [
        "q.display()"
      ],
      "metadata": {
        "colab": {
          "base_uri": "https://localhost:8080/"
        },
        "id": "c_maTJ7twrS8",
        "outputId": "17acf3e5-952a-4760-fe66-e0bf62c4cf7e"
      },
      "execution_count": 10,
      "outputs": [
        {
          "output_type": "stream",
          "name": "stdout",
          "text": [
            "a b c \n"
          ]
        }
      ]
    },
    {
      "cell_type": "code",
      "source": [
        "q.enqueue('d')"
      ],
      "metadata": {
        "colab": {
          "base_uri": "https://localhost:8080/"
        },
        "id": "M3soIGBFwtEQ",
        "outputId": "9f3dfc45-1eb3-450a-8f73-f2fdd0d0edbd"
      },
      "execution_count": 11,
      "outputs": [
        {
          "output_type": "stream",
          "name": "stdout",
          "text": [
            "full\n"
          ]
        }
      ]
    },
    {
      "cell_type": "code",
      "source": [
        "q.display()"
      ],
      "metadata": {
        "colab": {
          "base_uri": "https://localhost:8080/"
        },
        "id": "sVZfepKzwwy-",
        "outputId": "fce94771-1fd7-47ee-8026-e4d258c6139c"
      },
      "execution_count": 12,
      "outputs": [
        {
          "output_type": "stream",
          "name": "stdout",
          "text": [
            "a b c \n"
          ]
        }
      ]
    },
    {
      "cell_type": "code",
      "source": [
        "x = q.dequeue()\n",
        "print(x)"
      ],
      "metadata": {
        "colab": {
          "base_uri": "https://localhost:8080/"
        },
        "id": "Vuyb6wPbwyW4",
        "outputId": "4d6a4ccc-d10c-4264-ca6e-6c35362973ab"
      },
      "execution_count": 13,
      "outputs": [
        {
          "output_type": "stream",
          "name": "stdout",
          "text": [
            "a\n"
          ]
        }
      ]
    },
    {
      "cell_type": "code",
      "source": [
        "y = q.dequeue()\n",
        "print(y)"
      ],
      "metadata": {
        "colab": {
          "base_uri": "https://localhost:8080/"
        },
        "id": "XqlN_WP0w9be",
        "outputId": "77d17000-4703-44ca-eae1-a1ed9b2b214a"
      },
      "execution_count": 14,
      "outputs": [
        {
          "output_type": "stream",
          "name": "stdout",
          "text": [
            "b\n"
          ]
        }
      ]
    },
    {
      "cell_type": "code",
      "source": [
        "q.display()"
      ],
      "metadata": {
        "colab": {
          "base_uri": "https://localhost:8080/"
        },
        "id": "Jm-GiqHWxBVG",
        "outputId": "16a5e0d1-d4ed-45d6-dc4a-c3c5af2c01fc"
      },
      "execution_count": 15,
      "outputs": [
        {
          "output_type": "stream",
          "name": "stdout",
          "text": [
            "c \n"
          ]
        }
      ]
    },
    {
      "cell_type": "code",
      "source": [
        "z = q.dequeue()\n",
        "print(z)"
      ],
      "metadata": {
        "colab": {
          "base_uri": "https://localhost:8080/"
        },
        "id": "nvjAEExpxFSI",
        "outputId": "3d6a591a-82b6-43f8-8814-858894e7b9ac"
      },
      "execution_count": 16,
      "outputs": [
        {
          "output_type": "stream",
          "name": "stdout",
          "text": [
            "c\n"
          ]
        }
      ]
    },
    {
      "cell_type": "code",
      "source": [
        "q.display()"
      ],
      "metadata": {
        "colab": {
          "base_uri": "https://localhost:8080/"
        },
        "id": "bHjnKhGJxKue",
        "outputId": "fb5c8361-5765-4790-fbfe-d7cb2960ce07"
      },
      "execution_count": 17,
      "outputs": [
        {
          "output_type": "stream",
          "name": "stdout",
          "text": [
            "empty\n"
          ]
        }
      ]
    }
  ]
}