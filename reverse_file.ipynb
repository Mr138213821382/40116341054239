{
  "nbformat": 4,
  "nbformat_minor": 0,
  "metadata": {
    "colab": {
      "name": "reverse_file.ipynb",
      "provenance": []
    },
    "kernelspec": {
      "name": "python3",
      "display_name": "Python 3"
    },
    "language_info": {
      "name": "python"
    }
  },
  "cells": [
    {
      "cell_type": "code",
      "source": [
        "from pygorithm.data_structures.stack import Stack"
      ],
      "metadata": {
        "id": "mhJIWvK5AtrE"
      },
      "execution_count": 4,
      "outputs": []
    },
    {
      "cell_type": "code",
      "source": [
        "def reverse(f1,f2):\n",
        "  s = Stack()\n",
        "  fh1 = open(f1, 'r')\n",
        "  for i in fh1:\n",
        "    x = i.rstrip('\\n')\n",
        "    s.push(x)\n",
        "  fh1.close()\n",
        "\n",
        "  fh2 = open(f2, 'w')\n",
        "  while not s.is_empty():\n",
        "    y = s.pop()\n",
        "    fh2.write(y + '\\n')\n",
        "  fh2.close()\n"
      ],
      "metadata": {
        "id": "ijt7_CB_A1eX"
      },
      "execution_count": 5,
      "outputs": []
    },
    {
      "cell_type": "code",
      "source": [
        "reverse('a.txt','b.txt')"
      ],
      "metadata": {
        "id": "ecDuXJpkDlqt"
      },
      "execution_count": 6,
      "outputs": []
    }
  ]
}