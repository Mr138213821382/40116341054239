{
  "nbformat": 4,
  "nbformat_minor": 0,
  "metadata": {
    "colab": {
      "name": "bfs_dfs.ipynb",
      "provenance": []
    },
    "kernelspec": {
      "name": "python3",
      "display_name": "Python 3"
    },
    "language_info": {
      "name": "python"
    }
  },
  "cells": [
    {
      "cell_type": "code",
      "execution_count": 9,
      "metadata": {
        "id": "KmoUGUx2sLB5"
      },
      "outputs": [],
      "source": [
        "def bfs(G, s, v):   \n",
        "    q = []\n",
        "    v.append(s)\n",
        "    q.append(s)\n",
        "    while q:        \n",
        "        m = q.pop(0) \n",
        "        print(m, end=' ') \n",
        "        for n in G[m]:           \n",
        "            if n not in v:\n",
        "                v.append(n)\n",
        "                q.append(n)"
      ]
    },
    {
      "cell_type": "code",
      "source": [
        "def dfs(G, s, v): \n",
        "    if s not in v:\n",
        "        print(s, end=' ')\n",
        "        v.append(s)\n",
        "        for n in G[s]:\n",
        "            dfs(G, n, v)"
      ],
      "metadata": {
        "id": "-lkPlP6luvu8"
      },
      "execution_count": 10,
      "outputs": []
    },
    {
      "cell_type": "code",
      "source": [
        "g = {\n",
        "  '0' : ['1','2'],\n",
        "  '1' : ['3','4'],\n",
        "  '2' : ['5','6'],\n",
        "  '3' : [],\n",
        "  '4' : [],\n",
        "  '5' : [],\n",
        "  '6' : []\n",
        "}\n",
        "v = []                              \n",
        "bfs(g, '0', v)   "
      ],
      "metadata": {
        "colab": {
          "base_uri": "https://localhost:8080/"
        },
        "id": "n8iezBYpugsn",
        "outputId": "b01dcade-a453-4686-fac0-43e77353d985"
      },
      "execution_count": 11,
      "outputs": [
        {
          "output_type": "stream",
          "name": "stdout",
          "text": [
            "0 1 2 3 4 5 6 "
          ]
        }
      ]
    },
    {
      "cell_type": "code",
      "source": [
        "g = {\n",
        "  's' : ['w','r'],\n",
        "  'r' : ['v'],\n",
        "  'w' : ['t','x'],\n",
        "  'x' : ['y','u'],\n",
        "  't' : ['u'],\n",
        "  'y' : ['u'],\n",
        "  'v' : [],\n",
        "  'u' : []\n",
        "}\n",
        "v = []                              \n",
        "bfs(g, 's', v)  "
      ],
      "metadata": {
        "colab": {
          "base_uri": "https://localhost:8080/"
        },
        "id": "8ZFUkXaOuk8e",
        "outputId": "0e760259-a3df-45e8-e7d3-bb3b340fe533"
      },
      "execution_count": 12,
      "outputs": [
        {
          "output_type": "stream",
          "name": "stdout",
          "text": [
            "s w r t x v u y "
          ]
        }
      ]
    },
    {
      "cell_type": "code",
      "source": [
        "g = {\n",
        "  '0' : ['1','2'],\n",
        "  '1' : ['3','4'],\n",
        "  '2' : ['5','6'],\n",
        "  '3' : [],\n",
        "  '4' : [],\n",
        "  '5' : [],\n",
        "  '6' : []\n",
        "}\n",
        "v = []\n",
        "dfs(g, '0', v)"
      ],
      "metadata": {
        "colab": {
          "base_uri": "https://localhost:8080/"
        },
        "id": "h6zVv5Yru-Ln",
        "outputId": "be998830-afbf-488d-8e6d-ea9d3448e79e"
      },
      "execution_count": 13,
      "outputs": [
        {
          "output_type": "stream",
          "name": "stdout",
          "text": [
            "0 1 3 4 2 5 6 "
          ]
        }
      ]
    },
    {
      "cell_type": "code",
      "source": [
        "g = {\n",
        "       \"0\":[\"1\", \"2\", \"3\"],\n",
        "       \"1\":[\"2\"],\n",
        "       \"2\":[\"4\", \"5\", \"3\"],\n",
        "       \"3\":[],\n",
        "       \"4\":[],\n",
        "       \"5\":[\"6\"],\n",
        "       \"6\":[]\n",
        "    }\n",
        "v = []\n",
        "dfs(g, '0', v)"
      ],
      "metadata": {
        "colab": {
          "base_uri": "https://localhost:8080/"
        },
        "id": "13c15BcQvCvf",
        "outputId": "bd894a50-9dd1-4240-bd6f-7aadbccc95df"
      },
      "execution_count": 14,
      "outputs": [
        {
          "output_type": "stream",
          "name": "stdout",
          "text": [
            "0 1 2 4 5 6 3 "
          ]
        }
      ]
    }
  ]
}