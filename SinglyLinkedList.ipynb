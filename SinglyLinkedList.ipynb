{
  "nbformat": 4,
  "nbformat_minor": 0,
  "metadata": {
    "colab": {
      "name": "SinglyLinkedList.ipynb",
      "provenance": []
    },
    "kernelspec": {
      "name": "python3",
      "display_name": "Python 3"
    },
    "language_info": {
      "name": "python"
    }
  },
  "cells": [
    {
      "cell_type": "code",
      "execution_count": 1,
      "metadata": {
        "id": "jc5gpVOykEai"
      },
      "outputs": [],
      "source": [
        "class Node:\n",
        "  def __init__(self,d):\n",
        "    self.data = d\n",
        "    self.next = None"
      ]
    },
    {
      "cell_type": "code",
      "source": [
        "class LinkList:\n",
        "  def __init__(self):\n",
        "    self.head = None\n",
        "  \n",
        "  def display(self):\n",
        "    t = self.head\n",
        "    while t != None:\n",
        "      print(t.data, end='->')\n",
        "      t = t.next\n",
        "    print('Null')\n",
        "\n",
        "  def Instart(self, d):\n",
        "    n = Node(d)\n",
        "    n.next = self.head\n",
        "    self.head = n\n",
        "  \n",
        "  def Inend(self, d):\n",
        "    n = Node(d)\n",
        "    if self.head is None:\n",
        "      self.head = n\n",
        "      return\n",
        "    t = self.head\n",
        "    while(t.next):\n",
        "      t = t.next\n",
        "    t.next = n\n",
        "\n",
        "  def Inafter(self, m, d):\n",
        "    n = Node(d)\n",
        "    n.next = m.next\n",
        "    m.next = n\n",
        "  \n",
        "  def RemoveNode(self, d):\n",
        "    t =  self.head\n",
        "    if (t is not None):\n",
        "      if (t.data == d):\n",
        "        self.head = t.next\n",
        "        t = None\n",
        "        return\n",
        "    while (t is not None):\n",
        "      if t.data == d:\n",
        "        break\n",
        "      p = t\n",
        "      t = t.next\n",
        "    if (t == None):\n",
        "      return\n",
        "    p.next = t.next\n",
        "    t = None"
      ],
      "metadata": {
        "id": "cP583zy_kREd"
      },
      "execution_count": 22,
      "outputs": []
    },
    {
      "cell_type": "code",
      "source": [
        "x = Node(3)\n",
        "y = Node(4)\n",
        "z = Node(5)\n",
        "s = LinkList() \n",
        "s.head = x\n",
        "x.next = y\n",
        "y.next = z\n",
        "s.display()"
      ],
      "metadata": {
        "colab": {
          "base_uri": "https://localhost:8080/"
        },
        "id": "Lntq34R1kRHo",
        "outputId": "9ea61030-7976-4c63-d6a7-58259e92e2a0"
      },
      "execution_count": 23,
      "outputs": [
        {
          "output_type": "stream",
          "name": "stdout",
          "text": [
            "3->4->5->Null\n"
          ]
        }
      ]
    },
    {
      "cell_type": "code",
      "source": [
        "s.Instart(1)\n",
        "s.display()"
      ],
      "metadata": {
        "colab": {
          "base_uri": "https://localhost:8080/"
        },
        "id": "2ad8_rMcnzJV",
        "outputId": "a48e5b8a-a459-4e28-880d-f8e64d2a687e"
      },
      "execution_count": 24,
      "outputs": [
        {
          "output_type": "stream",
          "name": "stdout",
          "text": [
            "1->3->4->5->Null\n"
          ]
        }
      ]
    },
    {
      "cell_type": "code",
      "source": [
        "s.Inend(6)\n",
        "s.display()"
      ],
      "metadata": {
        "colab": {
          "base_uri": "https://localhost:8080/"
        },
        "id": "0TT6Xx75kRK0",
        "outputId": "2a7cb61b-390c-44d8-fa8f-6b48ca82b69a"
      },
      "execution_count": 25,
      "outputs": [
        {
          "output_type": "stream",
          "name": "stdout",
          "text": [
            "1->3->4->5->6->Null\n"
          ]
        }
      ]
    },
    {
      "cell_type": "code",
      "source": [
        "s.Inafter(s.head, 2)\n",
        "s.display()"
      ],
      "metadata": {
        "colab": {
          "base_uri": "https://localhost:8080/"
        },
        "id": "ihvuTH_dkRNo",
        "outputId": "68ff55f9-5d18-4a27-ed86-96820f419662"
      },
      "execution_count": 26,
      "outputs": [
        {
          "output_type": "stream",
          "name": "stdout",
          "text": [
            "1->2->3->4->5->6->Null\n"
          ]
        }
      ]
    },
    {
      "cell_type": "code",
      "source": [
        "s.Inafter(s.head.next.next, 13)\n",
        "s.display()"
      ],
      "metadata": {
        "colab": {
          "base_uri": "https://localhost:8080/"
        },
        "id": "YlEQLrmTkRQs",
        "outputId": "c2ed960c-2c43-49c5-f65c-9644e6d8162a"
      },
      "execution_count": 27,
      "outputs": [
        {
          "output_type": "stream",
          "name": "stdout",
          "text": [
            "1->2->3->13->4->5->6->Null\n"
          ]
        }
      ]
    },
    {
      "cell_type": "code",
      "source": [
        "s.RemoveNode(13)\n",
        "s.display()"
      ],
      "metadata": {
        "colab": {
          "base_uri": "https://localhost:8080/"
        },
        "id": "rSEOu0hdqFrD",
        "outputId": "d6927634-d036-4428-d9b3-99e641a2d33a"
      },
      "execution_count": 28,
      "outputs": [
        {
          "output_type": "stream",
          "name": "stdout",
          "text": [
            "1->2->3->4->5->6->Null\n"
          ]
        }
      ]
    },
    {
      "cell_type": "code",
      "source": [
        "s.RemoveNode(1)\n",
        "s.display()"
      ],
      "metadata": {
        "colab": {
          "base_uri": "https://localhost:8080/"
        },
        "id": "qs26VtnPqLYA",
        "outputId": "dd4da34c-924f-491a-beb8-42ad93485094"
      },
      "execution_count": 29,
      "outputs": [
        {
          "output_type": "stream",
          "name": "stdout",
          "text": [
            "2->3->4->5->6->Null\n"
          ]
        }
      ]
    },
    {
      "cell_type": "code",
      "source": [
        "s.RemoveNode(6)\n",
        "s.display()"
      ],
      "metadata": {
        "colab": {
          "base_uri": "https://localhost:8080/"
        },
        "id": "nMC5L13pqON_",
        "outputId": "255436cf-964b-4782-fa21-719250e0fc4d"
      },
      "execution_count": 30,
      "outputs": [
        {
          "output_type": "stream",
          "name": "stdout",
          "text": [
            "2->3->4->5->Null\n"
          ]
        }
      ]
    }
  ]
}