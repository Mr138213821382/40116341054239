{
  "nbformat": 4,
  "nbformat_minor": 0,
  "metadata": {
    "colab": {
      "name": "pygorithm_queue.ipynb",
      "provenance": []
    },
    "kernelspec": {
      "name": "python3",
      "display_name": "Python 3"
    },
    "language_info": {
      "name": "python"
    }
  },
  "cells": [
    {
      "cell_type": "code",
      "source": [
        "pip install pygorithm"
      ],
      "metadata": {
        "colab": {
          "base_uri": "https://localhost:8080/"
        },
        "id": "hW0B0I-0q4T6",
        "outputId": "225db863-2584-49a9-b8cf-ef614281d336"
      },
      "execution_count": 12,
      "outputs": [
        {
          "output_type": "stream",
          "name": "stdout",
          "text": [
            "Requirement already satisfied: pygorithm in /usr/local/lib/python3.7/dist-packages (1.0.4)\n"
          ]
        }
      ]
    },
    {
      "cell_type": "code",
      "source": [
        "from pygorithm import data_structures"
      ],
      "metadata": {
        "id": "gZiGFiszq4Q9"
      },
      "execution_count": 13,
      "outputs": []
    },
    {
      "cell_type": "code",
      "source": [
        "help(data_structures)"
      ],
      "metadata": {
        "colab": {
          "base_uri": "https://localhost:8080/"
        },
        "id": "n-VSFQHrq4N3",
        "outputId": "bfa2a77e-4350-45b8-ff3e-ef232e903035"
      },
      "execution_count": 14,
      "outputs": [
        {
          "output_type": "stream",
          "name": "stdout",
          "text": [
            "Help on package pygorithm.data_structures in pygorithm:\n",
            "\n",
            "NAME\n",
            "    pygorithm.data_structures - Collection of data structure examples\n",
            "\n",
            "PACKAGE CONTENTS\n",
            "    graph\n",
            "    heap\n",
            "    linked_list\n",
            "    quadtree\n",
            "    queue\n",
            "    stack\n",
            "    tree\n",
            "    trie\n",
            "\n",
            "DATA\n",
            "    __all__ = ['graph', 'heap', 'linked_list', 'queue', 'stack', 'tree', '...\n",
            "\n",
            "FILE\n",
            "    /usr/local/lib/python3.7/dist-packages/pygorithm/data_structures/__init__.py\n",
            "\n",
            "\n"
          ]
        }
      ]
    },
    {
      "cell_type": "code",
      "source": [
        "from pygorithm import sorting\n",
        "help(sorting)"
      ],
      "metadata": {
        "colab": {
          "base_uri": "https://localhost:8080/"
        },
        "id": "XqurePxvq4Di",
        "outputId": "a0d5d797-fa29-452d-86f0-012c3c1e1e5d"
      },
      "execution_count": 15,
      "outputs": [
        {
          "output_type": "stream",
          "name": "stdout",
          "text": [
            "Help on package pygorithm.sorting in pygorithm:\n",
            "\n",
            "NAME\n",
            "    pygorithm.sorting - Collection of sorting methods\n",
            "\n",
            "PACKAGE CONTENTS\n",
            "    bubble_sort\n",
            "    bucket_sort\n",
            "    counting_sort\n",
            "    heap_sort\n",
            "    insertion_sort\n",
            "    merge_sort\n",
            "    quick_sort\n",
            "    selection_sort\n",
            "    shell_sort\n",
            "\n",
            "DATA\n",
            "    __all__ = ['bubble_sort', 'bucket_sort', 'counting_sort', 'heap_sort',...\n",
            "\n",
            "FILE\n",
            "    /usr/local/lib/python3.7/dist-packages/pygorithm/sorting/__init__.py\n",
            "\n",
            "\n"
          ]
        }
      ]
    },
    {
      "cell_type": "code",
      "source": [
        "from pygorithm.data_structures.queue import Queue\n",
        "q = Queue()\n",
        "print(q.get_code())"
      ],
      "metadata": {
        "colab": {
          "base_uri": "https://localhost:8080/"
        },
        "id": "lg4F4pSqq4AA",
        "outputId": "55b36757-2c89-4795-997c-3da8344a9900"
      },
      "execution_count": 16,
      "outputs": [
        {
          "output_type": "stream",
          "name": "stdout",
          "text": [
            "class Queue(object):\n",
            "    \"\"\"Queue\n",
            "    Queue implementation\n",
            "    \"\"\"\n",
            "    def __init__(self, limit=10):\n",
            "        \"\"\"\n",
            "        :param limit: Queue limit size, default @ 10\n",
            "        \"\"\"\n",
            "        self.queue = []\n",
            "        self.front = None\n",
            "        self.rear = None\n",
            "        self.limit = limit\n",
            "        self.size = 0\n",
            "\n",
            "    def __str__(self):\n",
            "        return ' '.join([str(i) for i in self.queue])\n",
            "\n",
            "    def size(self):\n",
            "        \"\"\"\n",
            "        returns the current size of the queue\n",
            "        \"\"\"\n",
            "        return self.size\n",
            "\n",
            "    def is_empty(self):\n",
            "        \"\"\"\n",
            "        checks if the queue is empty\n",
            "        \"\"\"\n",
            "        return self.size <= 0\n",
            "\n",
            "    def enqueue(self, data):\n",
            "        \"\"\"\n",
            "        inserts an item into the queue\n",
            "        \"\"\"\n",
            "        if self.size >= self.limit:\n",
            "            # queue overflow\n",
            "            return -1\n",
            "        else:\n",
            "            self.queue.append(data)\n",
            "\n",
            "        # assign the rear as size of the queue and front as 0\n",
            "        if self.front is None:\n",
            "            self.front = self.rear = 0\n",
            "        else:\n",
            "            self.rear = self.size\n",
            "\n",
            "        self.size += 1\n",
            "\n",
            "    def dequeue(self):\n",
            "        \"\"\"\n",
            "        pops an item from the queue which was first inserted\n",
            "        \"\"\"\n",
            "        if self.is_empty():\n",
            "            # queue underflow\n",
            "            return -1\n",
            "        else:\n",
            "            self.size -= 1\n",
            "            if self.size == 0:\n",
            "                self.front = self.rear = 0\n",
            "            else:\n",
            "                self.rear = self.size - 1\n",
            "            return self.queue.pop(0)\n",
            "\n",
            "    def get_code(self):\n",
            "        \"\"\"\n",
            "        Return source code for Queue class\n",
            "        :return:\n",
            "        \"\"\"\n",
            "        return inspect.getsource(Queue)\n",
            "\n"
          ]
        }
      ]
    },
    {
      "cell_type": "code",
      "source": [
        "q = Queue()\n",
        "\n",
        "q.enqueue('A')\n",
        "q.enqueue('B')\n",
        "q.enqueue('C')\n",
        "\n",
        "print(q)\n",
        "\n",
        "q.dequeue()\n",
        "print(q)"
      ],
      "metadata": {
        "colab": {
          "base_uri": "https://localhost:8080/"
        },
        "id": "ejun4Lvnq380",
        "outputId": "76c35bb1-3c46-4d4f-ed8c-8eae6546b859"
      },
      "execution_count": 24,
      "outputs": [
        {
          "output_type": "stream",
          "name": "stdout",
          "text": [
            "A B C\n",
            "B C\n"
          ]
        }
      ]
    },
    {
      "cell_type": "code",
      "source": [
        ""
      ],
      "metadata": {
        "id": "aCg4zPqKq351"
      },
      "execution_count": null,
      "outputs": []
    },
    {
      "cell_type": "code",
      "source": [
        ""
      ],
      "metadata": {
        "id": "-AGFjhVgq3ig"
      },
      "execution_count": null,
      "outputs": []
    }
  ]
}