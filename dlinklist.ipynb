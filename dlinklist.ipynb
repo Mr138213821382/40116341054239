{
  "nbformat": 4,
  "nbformat_minor": 0,
  "metadata": {
    "colab": {
      "name": "dlinklist.ipynb",
      "provenance": []
    },
    "kernelspec": {
      "name": "python3",
      "display_name": "Python 3"
    },
    "language_info": {
      "name": "python"
    }
  },
  "cells": [
    {
      "cell_type": "code",
      "execution_count": 17,
      "metadata": {
        "id": "xUIoWhSVn_q_"
      },
      "outputs": [],
      "source": [
        "class Node:\n",
        "  def __init__(self, data):\n",
        "    self.data = data\n",
        "    self.next = None\n",
        "    self.prev = None"
      ]
    },
    {
      "cell_type": "code",
      "source": [
        "class dlinklist:\n",
        "  def __init__(self):\n",
        "    self.head = None\n",
        "\n",
        "  def display(self, x):\n",
        "    while (x is not None):\n",
        "      print(x.data, end= ' <-> ')\n",
        "      x = x.next  \n",
        "    print('None')\n",
        "\n",
        "  def instart(self, d):\n",
        "    n = Node(d)    \n",
        "    n.next = self.head\n",
        "    if self.head is not None:\n",
        "      self.head.prev = n\n",
        "    self.head = n\n",
        "  \n",
        "  def inend(self, d):\n",
        "    n = Node(d)\n",
        "    if self.head is None:\n",
        "      self.head = n\n",
        "      return\n",
        "    t = self.head\n",
        "    while(t.next is not None) :\n",
        "      t = t.next\n",
        "    t.next = n\n",
        "    n.prev = t\n",
        "  \n",
        "  def inafter(self, x, d):\n",
        "    n = Node(d)\n",
        "    n.next = x.next\n",
        "    x.next = n\n",
        "    n.prev = x\n",
        "    if n.next is not None:\n",
        "      n.next.prev = n"
      ],
      "metadata": {
        "id": "USlC4LoSpHE5"
      },
      "execution_count": 33,
      "outputs": []
    },
    {
      "cell_type": "code",
      "source": [
        "n1 = Node(2)\n",
        "n2 = Node(4)\n",
        "n3 = Node(5)\n",
        "\n",
        "d = dlinklist()"
      ],
      "metadata": {
        "id": "SU4yQWV2p5kb"
      },
      "execution_count": 34,
      "outputs": []
    },
    {
      "cell_type": "code",
      "source": [
        "d.head = n1\n",
        "n1.next = n2\n",
        "n2.next = n3\n",
        "n2.prev = n1\n",
        "n3.prev = n2\n"
      ],
      "metadata": {
        "id": "JYYLVoWcqJUe"
      },
      "execution_count": 35,
      "outputs": []
    },
    {
      "cell_type": "code",
      "source": [
        "d.display(d.head)"
      ],
      "metadata": {
        "colab": {
          "base_uri": "https://localhost:8080/"
        },
        "id": "TpKBD1CnqjU6",
        "outputId": "91298de4-b6a5-43b8-dff9-b8eb2e259809"
      },
      "execution_count": 36,
      "outputs": [
        {
          "output_type": "stream",
          "name": "stdout",
          "text": [
            "2 <-> 4 <-> 5 <-> None\n"
          ]
        }
      ]
    },
    {
      "cell_type": "code",
      "source": [
        "d.instart(1)"
      ],
      "metadata": {
        "id": "toibAAykrP5B"
      },
      "execution_count": 37,
      "outputs": []
    },
    {
      "cell_type": "code",
      "source": [
        "d.display(d.head)"
      ],
      "metadata": {
        "colab": {
          "base_uri": "https://localhost:8080/"
        },
        "id": "XZ2unCz9rc33",
        "outputId": "6dc7ea79-8849-48a9-b064-8483d8ec6ce4"
      },
      "execution_count": 30,
      "outputs": [
        {
          "output_type": "stream",
          "name": "stdout",
          "text": [
            "1 <-> 2 <-> 4 <-> 5 <-> None\n"
          ]
        }
      ]
    },
    {
      "cell_type": "code",
      "source": [
        "d.inend(6)\n",
        "d.display(d.head)"
      ],
      "metadata": {
        "colab": {
          "base_uri": "https://localhost:8080/"
        },
        "id": "yjyogLdstrLd",
        "outputId": "13ee0a9e-690c-440d-f568-ca7e51c82b8a"
      },
      "execution_count": 38,
      "outputs": [
        {
          "output_type": "stream",
          "name": "stdout",
          "text": [
            "1 <-> 2 <-> 4 <-> 5 <-> 6 <-> None\n"
          ]
        }
      ]
    },
    {
      "cell_type": "code",
      "source": [
        "d.inend(7)\n",
        "d.display(d.head)"
      ],
      "metadata": {
        "colab": {
          "base_uri": "https://localhost:8080/"
        },
        "id": "w9lv8kLCunU_",
        "outputId": "b9765445-a2f2-4eb4-a8b2-824e62f9303b"
      },
      "execution_count": 39,
      "outputs": [
        {
          "output_type": "stream",
          "name": "stdout",
          "text": [
            "1 <-> 2 <-> 4 <-> 5 <-> 6 <-> 7 <-> None\n"
          ]
        }
      ]
    },
    {
      "cell_type": "code",
      "source": [
        "d.inafter(d.head.next, 3)\n",
        "d.display(d.head)"
      ],
      "metadata": {
        "colab": {
          "base_uri": "https://localhost:8080/"
        },
        "id": "QSXyLrK6vSJ-",
        "outputId": "5126d538-4fcd-42d7-a18c-df0c5a177c34"
      },
      "execution_count": 40,
      "outputs": [
        {
          "output_type": "stream",
          "name": "stdout",
          "text": [
            "1 <-> 2 <-> 3 <-> 4 <-> 5 <-> 6 <-> 7 <-> None\n"
          ]
        }
      ]
    },
    {
      "cell_type": "code",
      "source": [
        "d.inafter(d.head.next.next.next, 78)\n",
        "d.display(d.head)"
      ],
      "metadata": {
        "colab": {
          "base_uri": "https://localhost:8080/"
        },
        "id": "Z_9M58RsvjBx",
        "outputId": "17306a9b-e208-4780-b2c5-74a0be6ee67f"
      },
      "execution_count": 41,
      "outputs": [
        {
          "output_type": "stream",
          "name": "stdout",
          "text": [
            "1 <-> 2 <-> 3 <-> 4 <-> 78 <-> 5 <-> 6 <-> 7 <-> None\n"
          ]
        }
      ]
    }
  ]
}