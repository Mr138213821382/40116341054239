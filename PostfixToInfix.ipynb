{
  "nbformat": 4,
  "nbformat_minor": 0,
  "metadata": {
    "colab": {
      "name": "PostfixToInfix.ipynb",
      "provenance": []
    },
    "kernelspec": {
      "name": "python3",
      "display_name": "Python 3"
    },
    "language_info": {
      "name": "python"
    }
  },
  "cells": [
    {
      "cell_type": "code",
      "source": [
        "pip install pythonds"
      ],
      "metadata": {
        "colab": {
          "base_uri": "https://localhost:8080/"
        },
        "id": "V2r1pLyUeCoi",
        "outputId": "3eec23f8-297d-4260-ccf9-6c9e7ad984f3"
      },
      "execution_count": 2,
      "outputs": [
        {
          "output_type": "stream",
          "name": "stdout",
          "text": [
            "Collecting pythonds\n",
            "  Downloading pythonds-1.2.1-py3-none-any.whl (14 kB)\n",
            "Installing collected packages: pythonds\n",
            "Successfully installed pythonds-1.2.1\n"
          ]
        }
      ]
    },
    {
      "cell_type": "code",
      "execution_count": 3,
      "metadata": {
        "id": "ASpmJ_-jTdU8"
      },
      "outputs": [],
      "source": [
        "from pythonds.basic import Stack"
      ]
    },
    {
      "cell_type": "code",
      "source": [
        "def PostfixToInfix(exp):\n",
        "  s = Stack()\n",
        "  for k in exp:\n",
        "    if k.isalpha():\n",
        "      s.push(k)\n",
        "    elif k in ['+','-','*','/']:\n",
        "      b = s.pop()\n",
        "      a = s.pop()\n",
        "      s.push('(' + a + k + b + ')')\n",
        "  return s.pop()"
      ],
      "metadata": {
        "id": "q2dF7rj5eJgt"
      },
      "execution_count": 4,
      "outputs": []
    },
    {
      "cell_type": "code",
      "source": [
        "PostfixToInfix('ABC+*')"
      ],
      "metadata": {
        "colab": {
          "base_uri": "https://localhost:8080/",
          "height": 35
        },
        "id": "uUmCmqwbesXD",
        "outputId": "8094a23d-c239-4216-c2a3-e26dc4dff7cc"
      },
      "execution_count": 5,
      "outputs": [
        {
          "output_type": "execute_result",
          "data": {
            "text/plain": [
              "'(A*(B+C))'"
            ],
            "application/vnd.google.colaboratory.intrinsic+json": {
              "type": "string"
            }
          },
          "metadata": {},
          "execution_count": 5
        }
      ]
    },
    {
      "cell_type": "code",
      "source": [
        "PostfixToInfix('ABC+*D*')"
      ],
      "metadata": {
        "colab": {
          "base_uri": "https://localhost:8080/",
          "height": 35
        },
        "id": "tm1CBtnqfDYB",
        "outputId": "ab26b08b-f566-4bad-854e-5e325c8122bf"
      },
      "execution_count": 6,
      "outputs": [
        {
          "output_type": "execute_result",
          "data": {
            "text/plain": [
              "'((A*(B+C))*D)'"
            ],
            "application/vnd.google.colaboratory.intrinsic+json": {
              "type": "string"
            }
          },
          "metadata": {},
          "execution_count": 6
        }
      ]
    },
    {
      "cell_type": "code",
      "source": [
        "PostfixToInfix('AB/')"
      ],
      "metadata": {
        "colab": {
          "base_uri": "https://localhost:8080/",
          "height": 35
        },
        "id": "KPtF0xTpfK8l",
        "outputId": "c6ccb3fc-3e71-42c2-de18-8b18638ed355"
      },
      "execution_count": 7,
      "outputs": [
        {
          "output_type": "execute_result",
          "data": {
            "text/plain": [
              "'(A/B)'"
            ],
            "application/vnd.google.colaboratory.intrinsic+json": {
              "type": "string"
            }
          },
          "metadata": {},
          "execution_count": 7
        }
      ]
    }
  ]
}