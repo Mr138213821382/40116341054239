{
  "nbformat": 4,
  "nbformat_minor": 0,
  "metadata": {
    "colab": {
      "name": "InfixToPostfix.ipynb",
      "provenance": [],
      "collapsed_sections": []
    },
    "kernelspec": {
      "name": "python3",
      "display_name": "Python 3"
    },
    "language_info": {
      "name": "python"
    }
  },
  "cells": [
    {
      "cell_type": "code",
      "source": [
        "a*b+c*d   : ab*cd*+\n",
        "a*(b+c)*d : abc+*d*"
      ],
      "metadata": {
        "id": "cJhsxqYEm9-P"
      },
      "execution_count": null,
      "outputs": []
    },
    {
      "cell_type": "code",
      "execution_count": 1,
      "metadata": {
        "id": "C20C_X1Lhhuo"
      },
      "outputs": [],
      "source": [
        "class myStack:\n",
        "  def __init__(self):\n",
        "    self.lst=[]\n",
        "\n",
        "  def push(self, data):\n",
        "    self.lst.append(data)\n",
        "\n",
        "  def pop(self):\n",
        "    if self.lst:\n",
        "        return self.lst.pop()\n",
        "    else:\n",
        "        return 'None'\n",
        "\n",
        "  def is_empty(self):\n",
        "    return self.lst==[]\n",
        "\n",
        "  def peek(self):\n",
        "    return self.lst[-1]"
      ]
    },
    {
      "cell_type": "code",
      "source": [
        "def InfixToPostfix(exp):\n",
        "  s = myStack()\n",
        "  p = {'+' : 1 , '-':1 , '*':2 , '/': 2}\n",
        "  output = ''\n",
        "  for i in exp:\n",
        "    if i.isalpha():\n",
        "      output += i\n",
        "    elif i == '(':\n",
        "      s.push('(')\n",
        "    elif i == ')':\n",
        "      while not s.is_empty() and s.peek() != '(':\n",
        "        output += s.pop()\n",
        "      s.pop()\n",
        "    else:\n",
        "      while not s.is_empty()  and s.peek() != '('  and p[i] <= p[s.peek()]:\n",
        "        output += s.pop()\n",
        "      s.push(i)\n",
        "    \n",
        "  while not s.is_empty():\n",
        "    output += s.pop()\n",
        "  return output"
      ],
      "metadata": {
        "id": "A_-wLVyGnMGb"
      },
      "execution_count": 2,
      "outputs": []
    },
    {
      "cell_type": "code",
      "source": [
        "InfixToPostfix('a*b+c*d')"
      ],
      "metadata": {
        "colab": {
          "base_uri": "https://localhost:8080/",
          "height": 35
        },
        "id": "7QYuUnS4mSb5",
        "outputId": "edbba021-204f-4414-d15e-ce10d7854325"
      },
      "execution_count": 3,
      "outputs": [
        {
          "output_type": "execute_result",
          "data": {
            "text/plain": [
              "'ab*cd*+'"
            ],
            "application/vnd.google.colaboratory.intrinsic+json": {
              "type": "string"
            }
          },
          "metadata": {},
          "execution_count": 3
        }
      ]
    },
    {
      "cell_type": "code",
      "source": [
        "InfixToPostfix('a*(b+c)*d')"
      ],
      "metadata": {
        "colab": {
          "base_uri": "https://localhost:8080/",
          "height": 35
        },
        "id": "BrSTfSQSpTa8",
        "outputId": "b0785f72-3266-498d-abce-5fb5a8121296"
      },
      "execution_count": 4,
      "outputs": [
        {
          "output_type": "execute_result",
          "data": {
            "text/plain": [
              "'abc+*d*'"
            ],
            "application/vnd.google.colaboratory.intrinsic+json": {
              "type": "string"
            }
          },
          "metadata": {},
          "execution_count": 4
        }
      ]
    }
  ]
}