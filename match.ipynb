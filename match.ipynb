{
  "nbformat": 4,
  "nbformat_minor": 0,
  "metadata": {
    "colab": {
      "name": "match.ipynb",
      "provenance": []
    },
    "kernelspec": {
      "name": "python3",
      "display_name": "Python 3"
    },
    "language_info": {
      "name": "python"
    }
  },
  "cells": [
    {
      "cell_type": "code",
      "execution_count": 3,
      "metadata": {
        "id": "jwN-Yz9f7Y9O"
      },
      "outputs": [],
      "source": [
        "from pygorithm.data_structures.stack import Stack"
      ]
    },
    {
      "cell_type": "code",
      "source": [
        "def is_match(e):\n",
        "  x = '({['\n",
        "  y = ')}]'\n",
        "  s = Stack()\n",
        "\n",
        "  for i in e:\n",
        "    if i in x:\n",
        "      s.push(i)\n",
        "    elif i in y:\n",
        "      if s.is_empty():\n",
        "        return False\n",
        "      if y.index(i) != x.index(s.pop()):\n",
        "        return False\n",
        "\n",
        "  return s.is_empty()        "
      ],
      "metadata": {
        "id": "UbYqW32s-q18"
      },
      "execution_count": 13,
      "outputs": []
    },
    {
      "cell_type": "code",
      "source": [
        "is_match('({}){}')"
      ],
      "metadata": {
        "colab": {
          "base_uri": "https://localhost:8080/"
        },
        "id": "0J49TEqEAIdB",
        "outputId": "7823bd58-9d7f-4128-d4af-fe7e8f820788"
      },
      "execution_count": 14,
      "outputs": [
        {
          "output_type": "execute_result",
          "data": {
            "text/plain": [
              "True"
            ]
          },
          "metadata": {},
          "execution_count": 14
        }
      ]
    },
    {
      "cell_type": "code",
      "source": [
        "is_match('({}){)')"
      ],
      "metadata": {
        "colab": {
          "base_uri": "https://localhost:8080/"
        },
        "id": "F4RFoh6PAO5I",
        "outputId": "7be373be-e2f1-4f72-d7be-f80d7494e9b5"
      },
      "execution_count": 15,
      "outputs": [
        {
          "output_type": "execute_result",
          "data": {
            "text/plain": [
              "False"
            ]
          },
          "metadata": {},
          "execution_count": 15
        }
      ]
    },
    {
      "cell_type": "code",
      "source": [
        "is_match('){}){}')"
      ],
      "metadata": {
        "colab": {
          "base_uri": "https://localhost:8080/"
        },
        "id": "XT7eBGq6ASEz",
        "outputId": "14f0dbe8-e746-4d70-d6da-3a640660a0bb"
      },
      "execution_count": 16,
      "outputs": [
        {
          "output_type": "execute_result",
          "data": {
            "text/plain": [
              "False"
            ]
          },
          "metadata": {},
          "execution_count": 16
        }
      ]
    }
  ]
}