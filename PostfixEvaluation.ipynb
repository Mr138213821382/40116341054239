{
  "nbformat": 4,
  "nbformat_minor": 0,
  "metadata": {
    "colab": {
      "name": "PostfixEvaluation.ipynb",
      "provenance": []
    },
    "kernelspec": {
      "name": "python3",
      "display_name": "Python 3"
    },
    "language_info": {
      "name": "python"
    }
  },
  "cells": [
    {
      "cell_type": "code",
      "source": [
        "from pythonds.basic import Stack"
      ],
      "metadata": {
        "id": "_O3hMj_1PL0D"
      },
      "execution_count": 4,
      "outputs": []
    },
    {
      "cell_type": "code",
      "source": [
        "def f(op, a, b):\n",
        "  if op == '*':\n",
        "    return a * b\n",
        "  elif op == '/':\n",
        "    return a / b\n",
        "  elif op == '+':\n",
        "    return a + b\n",
        "  else:\n",
        "    return a - b"
      ],
      "metadata": {
        "id": "xpKpTa9TQ-cx"
      },
      "execution_count": 7,
      "outputs": []
    },
    {
      "cell_type": "code",
      "source": [
        "def postEval(exp):\n",
        "  s = Stack()\n",
        "  lst = exp.split()\n",
        "  for t in lst:\n",
        "    if t in '0123456789':\n",
        "      s.push(int(t))\n",
        "    else:\n",
        "      x = s.pop()\n",
        "      y = s.pop()\n",
        "      r = f(t,y,x)\n",
        "      s.push(r)\n",
        "  return s.pop()\n"
      ],
      "metadata": {
        "id": "3AJa2ReAP1m1"
      },
      "execution_count": 8,
      "outputs": []
    },
    {
      "cell_type": "code",
      "source": [
        "postEval('7 8 + 3 2 + /')"
      ],
      "metadata": {
        "colab": {
          "base_uri": "https://localhost:8080/"
        },
        "id": "zEY_jv9qQEDk",
        "outputId": "e53f0862-9be3-4d8e-cf71-66de32f3c20b"
      },
      "execution_count": 9,
      "outputs": [
        {
          "output_type": "execute_result",
          "data": {
            "text/plain": [
              "3.0"
            ]
          },
          "metadata": {},
          "execution_count": 9
        }
      ]
    }
  ]
}