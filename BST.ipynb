{
  "nbformat": 4,
  "nbformat_minor": 0,
  "metadata": {
    "colab": {
      "name": "BST.ipynb",
      "provenance": [],
      "collapsed_sections": []
    },
    "kernelspec": {
      "name": "python3",
      "display_name": "Python 3"
    },
    "language_info": {
      "name": "python"
    }
  },
  "cells": [
    {
      "cell_type": "code",
      "execution_count": 6,
      "metadata": {
        "id": "IFbYBFutRJTp"
      },
      "outputs": [],
      "source": [
        "class Node:\n",
        "    def __init__(self, key):\n",
        "        self.key = key\n",
        "        self.left = None\n",
        "        self.right = None "
      ]
    },
    {
      "cell_type": "code",
      "source": [
        "def inorder(root):\n",
        "    if root is not None:\n",
        "        inorder(root.left)\n",
        "        print (root.key, end=\" \")\n",
        "        inorder(root.right) "
      ],
      "metadata": {
        "id": "wz2savoYRORx"
      },
      "execution_count": 7,
      "outputs": []
    },
    {
      "cell_type": "code",
      "source": [
        "def insert(root, k):\n",
        "    if root is None:\n",
        "        return Node(k)\n",
        "    if k < root.key:\n",
        "        root.left = insert(root.left, k)\n",
        "    else:\n",
        "        root.right = insert(root.right, k)\n",
        "    return root "
      ],
      "metadata": {
        "id": "hruWaWL5RRU5"
      },
      "execution_count": 8,
      "outputs": []
    },
    {
      "cell_type": "code",
      "source": [
        "def search(root, k):\n",
        "  if root is None or root.key == k :\n",
        "    return root\n",
        "  if k > root.key:\n",
        "    return search(root.right, k)\n",
        "  return search(root.left, k)"
      ],
      "metadata": {
        "id": "CTn_z8e5WRke"
      },
      "execution_count": 14,
      "outputs": []
    },
    {
      "cell_type": "code",
      "source": [
        "def delete(root, k ):"
      ],
      "metadata": {
        "id": "h_ARFNqkW-y6"
      },
      "execution_count": null,
      "outputs": []
    },
    {
      "cell_type": "code",
      "source": [
        "\"\"\"     \n",
        "          4\n",
        "       /      \\ \n",
        "     2         6\n",
        "   /  \\      /   \\\n",
        "  1    3    5     7       \n",
        "\"\"\""
      ],
      "metadata": {
        "id": "gKQipU8PRhts"
      },
      "execution_count": 9,
      "outputs": []
    },
    {
      "cell_type": "code",
      "source": [
        "r = None\n",
        "r = insert(r, 4)\n",
        "r = insert(r, 2)\n",
        "r = insert(r, 3)\n",
        "r = insert(r, 6)\n",
        "r = insert(r, 5)\n",
        "r = insert(r, 7)\n",
        "r = insert(r, 1)"
      ],
      "metadata": {
        "id": "KK75pYhuVqhT"
      },
      "execution_count": 10,
      "outputs": []
    },
    {
      "cell_type": "code",
      "source": [
        "inorder(r)"
      ],
      "metadata": {
        "colab": {
          "base_uri": "https://localhost:8080/"
        },
        "id": "fCPs9VfaV8V4",
        "outputId": "54fc293a-4aa9-475a-c826-047fede03cfb"
      },
      "execution_count": 11,
      "outputs": [
        {
          "output_type": "stream",
          "name": "stdout",
          "text": [
            "1 2 3 4 5 6 7 "
          ]
        }
      ]
    },
    {
      "cell_type": "code",
      "source": [
        "r = insert(r, 8)\n",
        "inorder(r)"
      ],
      "metadata": {
        "colab": {
          "base_uri": "https://localhost:8080/"
        },
        "id": "oD-EL4HPWAn3",
        "outputId": "2ed70587-16c8-41c9-8bd1-a5e7537b7978"
      },
      "execution_count": 13,
      "outputs": [
        {
          "output_type": "stream",
          "name": "stdout",
          "text": [
            "1 2 3 4 5 6 7 8 "
          ]
        }
      ]
    },
    {
      "cell_type": "code",
      "source": [
        "a = search(r, 7)\n",
        "print(a.key)"
      ],
      "metadata": {
        "colab": {
          "base_uri": "https://localhost:8080/"
        },
        "id": "sUdaaM7kWkLO",
        "outputId": "baac7321-7585-4303-a431-f53f0accac47"
      },
      "execution_count": 15,
      "outputs": [
        {
          "output_type": "stream",
          "name": "stdout",
          "text": [
            "7\n"
          ]
        }
      ]
    },
    {
      "cell_type": "code",
      "source": [
        "a = search(r, 20)\n",
        "print(a)"
      ],
      "metadata": {
        "colab": {
          "base_uri": "https://localhost:8080/"
        },
        "id": "7HyUwyn9Wud_",
        "outputId": "3bd03743-2899-4223-d1fe-9657ab86f904"
      },
      "execution_count": 17,
      "outputs": [
        {
          "output_type": "stream",
          "name": "stdout",
          "text": [
            "None\n"
          ]
        }
      ]
    }
  ]
}