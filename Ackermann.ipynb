{
  "nbformat": 4,
  "nbformat_minor": 0,
  "metadata": {
    "colab": {
      "name": "Ackermann.ipynb",
      "provenance": []
    },
    "kernelspec": {
      "name": "python3",
      "display_name": "Python 3"
    },
    "language_info": {
      "name": "python"
    }
  },
  "cells": [
    {
      "cell_type": "code",
      "source": [
        "def A(a, b, s='%s'):\n",
        "  print(s % ('A(%d,%d)' %(a,b)))\n",
        "  if a == 0:\n",
        "    return b+1\n",
        "  elif b == 0: \n",
        "    return A(a-1, 1, s)\n",
        "  else:\n",
        "    return A(a-1, A(a, b-1,s % ('A(%d, %%s)' % (a-1))), s)"
      ],
      "metadata": {
        "id": "MQcrQIvcW4WZ"
      },
      "execution_count": 11,
      "outputs": []
    },
    {
      "cell_type": "code",
      "source": [
        "A(1,1)"
      ],
      "metadata": {
        "colab": {
          "base_uri": "https://localhost:8080/"
        },
        "id": "0q-KypZpcu_y",
        "outputId": "df41b827-2994-4778-d29c-010b99be6561"
      },
      "execution_count": 12,
      "outputs": [
        {
          "output_type": "stream",
          "name": "stdout",
          "text": [
            "A(1,1)\n",
            "A(0, A(1,0))\n",
            "A(0, A(0,1))\n",
            "A(0,2)\n"
          ]
        },
        {
          "output_type": "execute_result",
          "data": {
            "text/plain": [
              "3"
            ]
          },
          "metadata": {},
          "execution_count": 12
        }
      ]
    },
    {
      "cell_type": "code",
      "source": [
        "A(1,2)"
      ],
      "metadata": {
        "colab": {
          "base_uri": "https://localhost:8080/"
        },
        "id": "1_qsJadndIRl",
        "outputId": "900eacb3-1287-4eca-af6f-5deaa01a08b7"
      },
      "execution_count": 13,
      "outputs": [
        {
          "output_type": "stream",
          "name": "stdout",
          "text": [
            "A(1,2)\n",
            "A(0, A(1,1))\n",
            "A(0, A(0, A(1,0)))\n",
            "A(0, A(0, A(0,1)))\n",
            "A(0, A(0,2))\n",
            "A(0,3)\n"
          ]
        },
        {
          "output_type": "execute_result",
          "data": {
            "text/plain": [
              "4"
            ]
          },
          "metadata": {},
          "execution_count": 13
        }
      ]
    },
    {
      "cell_type": "code",
      "source": [
        "A(1,3)"
      ],
      "metadata": {
        "colab": {
          "base_uri": "https://localhost:8080/"
        },
        "id": "wDd1MMY6dKTr",
        "outputId": "279755d7-568c-46f8-ae9e-33757b1528e3"
      },
      "execution_count": 14,
      "outputs": [
        {
          "output_type": "stream",
          "name": "stdout",
          "text": [
            "A(1,3)\n",
            "A(0, A(1,2))\n",
            "A(0, A(0, A(1,1)))\n",
            "A(0, A(0, A(0, A(1,0))))\n",
            "A(0, A(0, A(0, A(0,1))))\n",
            "A(0, A(0, A(0,2)))\n",
            "A(0, A(0,3))\n",
            "A(0,4)\n"
          ]
        },
        {
          "output_type": "execute_result",
          "data": {
            "text/plain": [
              "5"
            ]
          },
          "metadata": {},
          "execution_count": 14
        }
      ]
    },
    {
      "cell_type": "code",
      "source": [
        "A(2,1)"
      ],
      "metadata": {
        "colab": {
          "base_uri": "https://localhost:8080/"
        },
        "id": "P7Yv3aK8dMJE",
        "outputId": "a7ae6c22-1f29-4d5a-ea39-2a86f52be697"
      },
      "execution_count": 15,
      "outputs": [
        {
          "output_type": "stream",
          "name": "stdout",
          "text": [
            "A(2,1)\n",
            "A(1, A(2,0))\n",
            "A(1, A(1,1))\n",
            "A(1, A(0, A(1,0)))\n",
            "A(1, A(0, A(0,1)))\n",
            "A(1, A(0,2))\n",
            "A(1,3)\n",
            "A(0, A(1,2))\n",
            "A(0, A(0, A(1,1)))\n",
            "A(0, A(0, A(0, A(1,0))))\n",
            "A(0, A(0, A(0, A(0,1))))\n",
            "A(0, A(0, A(0,2)))\n",
            "A(0, A(0,3))\n",
            "A(0,4)\n"
          ]
        },
        {
          "output_type": "execute_result",
          "data": {
            "text/plain": [
              "5"
            ]
          },
          "metadata": {},
          "execution_count": 15
        }
      ]
    }
  ]
}