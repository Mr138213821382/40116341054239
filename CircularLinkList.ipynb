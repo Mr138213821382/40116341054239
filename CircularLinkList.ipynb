{
  "nbformat": 4,
  "nbformat_minor": 0,
  "metadata": {
    "colab": {
      "name": "CircularLinkList.ipynb",
      "provenance": []
    },
    "kernelspec": {
      "name": "python3",
      "display_name": "Python 3"
    },
    "language_info": {
      "name": "python"
    }
  },
  "cells": [
    {
      "cell_type": "code",
      "execution_count": 12,
      "metadata": {
        "id": "xUIoWhSVn_q_"
      },
      "outputs": [],
      "source": [
        "class Node:\n",
        "    def __init__(self, data = None):\n",
        "        self.data = data\n",
        "        self.next = self"
      ]
    },
    {
      "cell_type": "code",
      "source": [
        "class CLL:\n",
        "    def __init__(self):\n",
        "        self.head = None\n",
        "        self.count = 0\n",
        "     \n",
        "    def display(self):\n",
        "        if(self.head == None):\n",
        "            print(\"Empty\")\n",
        "            return \n",
        "        t = self.head\n",
        "        while(True):\n",
        "            print(t.data, end='->')\n",
        "            t = t.next\n",
        "            if (t == self.head):\n",
        "                break\n",
        "          \n",
        "    def insert(self, d, i):\n",
        "        if (i > self.count) | (i < 0):\n",
        "            print('Index out of range')\n",
        "        if self.head == None:\n",
        "            self.head = Node(d)\n",
        "            self.count += 1\n",
        "            return\n",
        "        t = self.head\n",
        "        for _ in range(self.count-1 if i-1 == -1 else i-1):\n",
        "            t = t.next\n",
        "        a = t.next\n",
        "        t.next = Node(d)\n",
        "        t.next.next = a\n",
        "        if(i == 0):\n",
        "            self.head = t.next\n",
        "        self.count += 1\n",
        "        return   \n",
        "     \n",
        "    def remove(self, i):\n",
        "        if (i >= self.count) | (i < 0):\n",
        "            print('Index out of range')\n",
        "        if self.count == 1:\n",
        "            self.head = None\n",
        "            self.count = 0\n",
        "            return\n",
        "        t = self.head\n",
        "        for _ in range(self.count-1 if i-1 == -1 else i-1):\n",
        "            t = t.next\n",
        "        a = t.next.next\n",
        "        t.next = a\n",
        "        if(i == 0):\n",
        "            self.head = a\n",
        "        self.count -= 1\n",
        "        return\n",
        "      \n",
        "    def size(self):\n",
        "        return self.count\n",
        "    \n",
        "    def index(self, d):\n",
        "      t = self.head\n",
        "      for i in range(self.count):\n",
        "        if (t.data == d):\n",
        "          return i\n",
        "        t = t.next\n",
        "      return None"
      ],
      "metadata": {
        "id": "h81kKnUmy693"
      },
      "execution_count": 31,
      "outputs": []
    },
    {
      "cell_type": "code",
      "source": [
        "x  = CLL()"
      ],
      "metadata": {
        "id": "_PrDyz6W2VAW"
      },
      "execution_count": 32,
      "outputs": []
    },
    {
      "cell_type": "code",
      "source": [
        "x.display()"
      ],
      "metadata": {
        "colab": {
          "base_uri": "https://localhost:8080/"
        },
        "id": "g9wF8H2D2VNP",
        "outputId": "96e95420-7054-411c-cbb5-faaf7cdb9526"
      },
      "execution_count": 33,
      "outputs": [
        {
          "output_type": "stream",
          "name": "stdout",
          "text": [
            "Empty\n"
          ]
        }
      ]
    },
    {
      "cell_type": "code",
      "source": [
        "x.insert(11,0)\n",
        "x.insert(12,1)\n",
        "x.insert(13,2)\n",
        "x.display()"
      ],
      "metadata": {
        "colab": {
          "base_uri": "https://localhost:8080/"
        },
        "id": "Vu59pwNv2VQU",
        "outputId": "954073ab-e876-4483-9292-05113751a01e"
      },
      "execution_count": 34,
      "outputs": [
        {
          "output_type": "stream",
          "name": "stdout",
          "text": [
            "11->12->13->"
          ]
        }
      ]
    },
    {
      "cell_type": "code",
      "source": [
        "x.index(15)"
      ],
      "metadata": {
        "id": "Ou5MC1if38Tb"
      },
      "execution_count": 37,
      "outputs": []
    },
    {
      "cell_type": "code",
      "source": [
        "x.insert(10,0)\n",
        "x.display()"
      ],
      "metadata": {
        "colab": {
          "base_uri": "https://localhost:8080/"
        },
        "id": "vVR51mu-2qTJ",
        "outputId": "d1497dc0-df56-4e2e-cb49-052575100db2"
      },
      "execution_count": 26,
      "outputs": [
        {
          "output_type": "stream",
          "name": "stdout",
          "text": [
            "10->11->12->13->"
          ]
        }
      ]
    },
    {
      "cell_type": "code",
      "source": [
        "x.size()"
      ],
      "metadata": {
        "colab": {
          "base_uri": "https://localhost:8080/"
        },
        "id": "tmT69nlg3ZXv",
        "outputId": "bdc9db96-8f89-499a-d8a7-870fcb66efe6"
      },
      "execution_count": 27,
      "outputs": [
        {
          "output_type": "execute_result",
          "data": {
            "text/plain": [
              "4"
            ]
          },
          "metadata": {},
          "execution_count": 27
        }
      ]
    },
    {
      "cell_type": "code",
      "source": [
        "x.insert(14,4)\n",
        "x.display()"
      ],
      "metadata": {
        "colab": {
          "base_uri": "https://localhost:8080/"
        },
        "id": "9QJcbBvp2w44",
        "outputId": "4255fd68-11c3-4a2f-e921-bc9a71bcf5cc"
      },
      "execution_count": 28,
      "outputs": [
        {
          "output_type": "stream",
          "name": "stdout",
          "text": [
            "10->11->12->13->14->"
          ]
        }
      ]
    },
    {
      "cell_type": "code",
      "source": [
        "x.size()"
      ],
      "metadata": {
        "colab": {
          "base_uri": "https://localhost:8080/"
        },
        "id": "6P4W3ZZZ3fyD",
        "outputId": "52c6f59d-d835-4798-cb2d-54bb92c6a1d6"
      },
      "execution_count": 29,
      "outputs": [
        {
          "output_type": "execute_result",
          "data": {
            "text/plain": [
              "5"
            ]
          },
          "metadata": {},
          "execution_count": 29
        }
      ]
    },
    {
      "cell_type": "code",
      "source": [
        "x.insert(20,2)\n",
        "x.display()"
      ],
      "metadata": {
        "colab": {
          "base_uri": "https://localhost:8080/"
        },
        "id": "1wFjXcgJ23hw",
        "outputId": "e020617e-450f-4a00-90e4-5e8a71af9113"
      },
      "execution_count": 19,
      "outputs": [
        {
          "output_type": "stream",
          "name": "stdout",
          "text": [
            "10->11->20->12->13->14->"
          ]
        }
      ]
    },
    {
      "cell_type": "code",
      "source": [
        "x.remove(2)\n",
        "x.display()"
      ],
      "metadata": {
        "colab": {
          "base_uri": "https://localhost:8080/"
        },
        "id": "mf4f707s266W",
        "outputId": "93a52eef-819f-40fc-8ab4-2a41782f3acb"
      },
      "execution_count": 20,
      "outputs": [
        {
          "output_type": "stream",
          "name": "stdout",
          "text": [
            "10->11->12->13->14->"
          ]
        }
      ]
    }
  ]
}