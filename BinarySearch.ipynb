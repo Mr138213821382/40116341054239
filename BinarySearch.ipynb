{
  "nbformat": 4,
  "nbformat_minor": 0,
  "metadata": {
    "colab": {
      "name": "BinarySearch.ipynb",
      "provenance": []
    },
    "kernelspec": {
      "name": "python3",
      "display_name": "Python 3"
    },
    "language_info": {
      "name": "python"
    }
  },
  "cells": [
    {
      "cell_type": "code",
      "execution_count": 1,
      "metadata": {
        "id": "sHh1qEjlTLGv"
      },
      "outputs": [],
      "source": [
        "def bs(lst, key,low,high):\n",
        "  if low > high:\n",
        "    return False\n",
        "  else:\n",
        "    mid = (low + high ) // 2\n",
        "    if lst[mid] == key :\n",
        "      return True\n",
        "    elif key < lst[mid]:\n",
        "      return bs(lst, key, low, mid-1)\n",
        "    else:\n",
        "      return bs(lst,key,mid+1 , high)"
      ]
    },
    {
      "cell_type": "code",
      "source": [
        "lst = [12,14,16,29,35,37,89,91,98]"
      ],
      "metadata": {
        "id": "QX9CR3QMUFXs"
      },
      "execution_count": 3,
      "outputs": []
    },
    {
      "cell_type": "code",
      "source": [
        "bs(lst,89,0,8)"
      ],
      "metadata": {
        "colab": {
          "base_uri": "https://localhost:8080/"
        },
        "id": "H59KJXGLUT4a",
        "outputId": "991968a3-b024-4fa6-b0c4-43aff57c0167"
      },
      "execution_count": 4,
      "outputs": [
        {
          "output_type": "execute_result",
          "data": {
            "text/plain": [
              "True"
            ]
          },
          "metadata": {},
          "execution_count": 4
        }
      ]
    },
    {
      "cell_type": "code",
      "source": [
        "bs(lst,90,0,8)"
      ],
      "metadata": {
        "colab": {
          "base_uri": "https://localhost:8080/"
        },
        "id": "asbHvgG3UVet",
        "outputId": "754561cd-f65a-4a0e-e513-87e0569515e3"
      },
      "execution_count": 5,
      "outputs": [
        {
          "output_type": "execute_result",
          "data": {
            "text/plain": [
              "False"
            ]
          },
          "metadata": {},
          "execution_count": 5
        }
      ]
    },
    {
      "cell_type": "code",
      "source": [
        "bs(lst,12,0,8)"
      ],
      "metadata": {
        "colab": {
          "base_uri": "https://localhost:8080/"
        },
        "id": "fqHnjEiEUdFr",
        "outputId": "81da25b8-41de-40db-ee61-26a2bb1f2c82"
      },
      "execution_count": 6,
      "outputs": [
        {
          "output_type": "execute_result",
          "data": {
            "text/plain": [
              "True"
            ]
          },
          "metadata": {},
          "execution_count": 6
        }
      ]
    }
  ]
}